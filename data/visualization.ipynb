{
 "cells": [
  {
   "cell_type": "code",
   "execution_count": 14,
   "id": "f3bcd803",
   "metadata": {},
   "outputs": [],
   "source": [
    "import seaborn as sns\n",
    "import matplotlib.pyplot as plt\n",
    "import numpy as np\n",
    "import pandas as pd\n",
    "import regex as re "
   ]
  },
  {
   "cell_type": "code",
   "execution_count": 15,
   "id": "839be544",
   "metadata": {},
   "outputs": [],
   "source": [
    "sns.set_theme(style=\"darkgrid\")"
   ]
  },
  {
   "cell_type": "code",
   "execution_count": 22,
   "id": "5d9138ee",
   "metadata": {},
   "outputs": [],
   "source": [
    "def normalize_names(string):\n",
    "    return string.replace(\"org.tastytruffle.benchmarks.ListBenchmark.benchmarkGraal\", \"List.\") \\\n",
    "                 .replace(\"org.tastytruffle.benchmarks.ResizableArrayBenchmark.benchmarkGraal\", \"ArrayBuffer.\") \\\n",
    "                 .replace(\"org.tastytruffle.benchmarks.ListBenchmark.benchmarkTruffle\", \"List.\") \\\n",
    "                 .replace(\"org.tastytruffle.benchmarks.ResizableArrayBenchmark.benchmarkTruffle\", \"ArrayBuffer.\")\n",
    "\n",
    "def extract_types(string):\n",
    "    pattern = r'^(List|ArrayBuffer)\\.(Int|Long|Double)(.+)$'\n",
    "    match = re.fullmatch(pattern, string)\n",
    "    return match[2]\n",
    "\n",
    "def drop_types_from_name(string):\n",
    "    pattern = r'^(List|ArrayBuffer)\\.(Int|Long|Double)(.+)$'\n",
    "    match = re.fullmatch(pattern, string)\n",
    "    return match[1] + '.' + match[3]\n",
    "\n",
    "def canonicalize(df):\n",
    "    df['Benchmark'] = df['Benchmark'].apply(normalize_names)\n",
    "    df['Type'] = df['Benchmark'].apply(extract_types)\n",
    "    df['Benchmark'] = df['Benchmark'].apply(drop_types_from_name)\n",
    "    return df"
   ]
  },
  {
   "cell_type": "code",
   "execution_count": 47,
   "id": "93eba891",
   "metadata": {},
   "outputs": [
    {
     "ename": "SyntaxError",
     "evalue": "closing parenthesis ']' does not match opening parenthesis '(' on line 4 (1517319561.py, line 5)",
     "output_type": "error",
     "traceback": [
      "\u001b[0;36m  File \u001b[0;32m\"/tmp/ipykernel_21814/1517319561.py\"\u001b[0;36m, line \u001b[0;32m5\u001b[0m\n\u001b[0;31m    ]\u001b[0m\n\u001b[0m    ^\u001b[0m\n\u001b[0;31mSyntaxError\u001b[0m\u001b[0;31m:\u001b[0m closing parenthesis ']' does not match opening parenthesis '(' on line 4\n"
     ]
    }
   ],
   "source": [
    "data = [\n",
    "    (\"graal_results.csv\", \"Graal\"),\n",
    "    (\"unspecialized_results.csv\", \"Unspecialized Truffle\"),\n",
    "    (\"specialized_results.csv\", \"Specialized Truffle\")\n",
    "]\n",
    "\n",
    "graal_csv = pd.read_csv(\"graal_results.csv\")\n",
    "canonicalize(graal_csv)\n",
    "\n",
    "filt = graal_csv['Benchmark']==\"List.contains\"\n",
    "graal_csv['Origin'] = 'Graal'\n",
    "print(graal_csv)"
   ]
  },
  {
   "cell_type": "code",
   "execution_count": 45,
   "id": "1250fe12",
   "metadata": {},
   "outputs": [
    {
     "data": {
      "text/plain": [
       "[None]"
      ]
     },
     "execution_count": 45,
     "metadata": {},
     "output_type": "execute_result"
    },
    {
     "data": {
      "image/png": "[encoded data removed]",
      "text/plain": [
       "<Figure size 432x288 with 1 Axes>"
      ]
     },
     "metadata": {
      "needs_background": "light"
     },
     "output_type": "display_data"
    }
   ],
   "source": [
    "splot = sns.boxenplot(\n",
    "    data=graal_csv[graal_csv.Benchmark.eq(\"List.Contains\")], \n",
    "    x='Param: arraySize', \n",
    "    y='Score', \n",
    "    hue='Type')\n",
    "\n",
    "splot.set(yscale=\"log\")"
   ]
  },
  {
   "cell_type": "code",
   "execution_count": null,
   "id": "ce2708cd",
   "metadata": {},
   "outputs": [],
   "source": []
  }
 ],
 "metadata": {
  "kernelspec": {
   "display_name": "Python 3 (ipykernel)",
   "language": "python",
   "name": "python3"
  },
  "language_info": {
   "codemirror_mode": {
    "name": "ipython",
    "version": 3
   },
   "file_extension": ".py",
   "mimetype": "text/x-python",
   "name": "python",
   "nbconvert_exporter": "python",
   "pygments_lexer": "ipython3",
   "version": "3.10.5"
  }
 },
 "nbformat": 4,
 "nbformat_minor": 5
}
